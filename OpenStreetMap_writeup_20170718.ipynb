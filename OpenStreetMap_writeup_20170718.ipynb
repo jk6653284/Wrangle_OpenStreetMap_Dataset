{
 "cells": [
  {
   "cell_type": "markdown",
   "metadata": {},
   "source": [
    "# OpenStreetMap Data Case Study"
   ]
  },
  {
   "cell_type": "markdown",
   "metadata": {},
   "source": [
    "## Table of Contents:\n",
    "\n",
    "1. Project Introduction\n",
    "2. Project Overview\n",
    "3. Map Area: Edinburgh, Scotland\n",
    "4. Problems Encountered in the Map\n",
    "5. Overview of the Data\n",
    "6. Other Ideas About the Dataset"
   ]
  },
  {
   "cell_type": "markdown",
   "metadata": {},
   "source": [
    "## 1. Project introduction\n",
    "\n",
    "The purpose of this project is to download a geographic section of the openstreetmap data, clean the data, then export it to a database so a series of queries can be asked to reveal interesting information about the map."
   ]
  },
  {
   "cell_type": "markdown",
   "metadata": {},
   "source": [
    "## 2. Project Overview\n",
    "\n",
    "The order of how this project was handled is as follows:\n",
    "\n",
    "1. Download map from openstreetmap as an osm file\n",
    "2. Parse the osm file using ElementTree module\n",
    "3. Look at the structure of the data and discover errors\n",
    "4. Fix errors (if possible)\n",
    "5. Export data by type of tag (node, node_tags, way, way_tags, way_nodes) as a csv file\n",
    "6. Store the csv files in a database\n",
    "7. Create queries to reveal interesting information about the data"
   ]
  },
  {
   "cell_type": "markdown",
   "metadata": {},
   "source": [
    "## 3. Map Area: Edinburgh, Scotland\n",
    "\n",
    "* OpenStreetMap address: https://www.openstreetmap.org/node/17898859#map=10/55.9504/-3.1915\n",
    "* Donwload address: https://mapzen.com/data/metro-extracts/metro/edinburgh_scotland/85684587/City%20of%20Edinburgh/\n",
    "\n",
    "I originally wanted to use Seoul or Bangkok, cities which are both more familiar to me, but both maps contained a complicated mess with both English and local language used. So for this project, I decided to look into the city I enjoyed visiting very much, Edinburgh."
   ]
  },
  {
   "cell_type": "markdown",
   "metadata": {},
   "source": [
    "## 4. Problems Encountered in the Map"
   ]
  },
  {
   "cell_type": "markdown",
   "metadata": {},
   "source": [
    "### 1. Street names\n",
    "\n",
    "### 1a. Abbreviated street names\n",
    "\n",
    "Some street names were abbreviated, or spelled wrong. I first ran a function that looked at all street types (most street types were mentioned at the end of the address), and looked at each one and decided whether they were faulty or not. At times I had to search on Google, because they were local street types that wasn't used elsewhere (e.g. Brae, Wynd)."
   ]
  },
  {
   "cell_type": "markdown",
   "metadata": {},
   "source": [
    "#### 1b. Directions within the street name\n",
    "\n",
    "While running the function mentioned above to look for faulty street names, I came across numerous addresses with directions at the end of the address: 'North', 'South', West', and 'East'. I noticed that they were just referring to part of a longer street, and that the actual addresses were just the street name without the direction (e.g. the area may be referred as 'Stenhouse Street East', but is actually part of the 'Stenhouse Street'. The street type names I wanted were 'hidden' before these directions, so I decided to get rid of these words.\n",
    "\n",
    "\n",
    "#### 1c. Other street name problems\n",
    "While the Edinburgh map's data was surprisingly well documented, there were obvious names that were probably not 'street' types, but probably a 'property' type. The below includes some of these examples."
   ]
  },
  {
   "cell_type": "code",
   "execution_count": 1,
   "metadata": {
    "collapsed": true
   },
   "outputs": [],
   "source": [
    "property_names = ['buildings', 'cottages', 'estate', 'garden(s)',\n",
    "                 'holdings', 'mall', 'manor', 'market', 'mills',\n",
    "                 'park', 'quadrant', 'port', 'steading(s)',\n",
    "                 'village', 'villas', 'yard']"
   ]
  },
  {
   "cell_type": "markdown",
   "metadata": {},
   "source": [
    "The problem with these errors was that there were simply too many of them scattered throughout the map that it wasn't possible to make the changes manually one by one, as I would also have to manually look for the actual address. However, I also felt that for a quick exploratory analysis, it was okay to leave them as they are right now.\n",
    "\n",
    "Problems a and b were corrected using the following code:"
   ]
  },
  {
   "cell_type": "markdown",
   "metadata": {},
   "source": [
    "This is a sample of how the street names changed:\n",
    "\n",
    "* `'Duddingston Gardens North' -> 'Duddingston Gardens'`\n",
    "* `'Railway Path South' -> 'Raily Path'`\n",
    "* `'St James place' -> 'St James Place'`\n",
    "* `'Mayburn Ave' -> 'Mayburn Avenue'`\n",
    "* `'Logie Green Rd' -> 'Logie Green Road'`"
   ]
  },
  {
   "cell_type": "markdown",
   "metadata": {},
   "source": [
    "### 2. Postal codes\n",
    "Edinburgh's postal codes start with 'EH', followed by a single or two digit number, followed by a single space, followed by a number, and two capitalized alphabets.\n",
    "\n",
    "In the data, postcodes were located under two different attribute names: \n",
    "\n",
    "`postal_code` and `addr:postcode`.\n",
    "\n",
    "I used the following regex expression to find postal codes that didn't match the format.\n",
    "\n",
    "`find_postal = re.compile(r'(EH\\d{1,2} \\d{1}[A-Z][A-Z])')`\n",
    "\n",
    "Surprisingly, the postal codes showed no serious errors. There were a group of 'KY' postal codes, which is a postcode for an upper region of Edinburgh. My guess is that since these other cities were very close to Edinburgh, they were mistakenly included as part of Edinburgh's map data. I decided just to leave them for this analysis."
   ]
  },
  {
   "cell_type": "markdown",
   "metadata": {},
   "source": [
    "### 3. City\n",
    "As in the case of postal codes, because there were some locations that are not part of Edinburgh included in the data, there are several towns and cities included in this data.\n",
    "\n",
    "I looked through the attribute `addr:city` and searched for cities that are not `'Edinburgh'`.\n",
    "\n",
    "Likewise in postal code, I decided not to remove the other cities, but I did found some faulty names and spelling errors, so made a mapping method similar to updating street name to change these errors."
   ]
  },
  {
   "cell_type": "markdown",
   "metadata": {},
   "source": [
    "### 4. Phone numbers\n",
    "Phone numbers showed one of the most diverse formats. First of all, phone numbers were distributed in attributes `phone` and `contact:phone`, as in the case of postal codes.\n",
    "\n",
    "In the end, I decided to follow the UK phone format standard as detailed in 'https://www.ukphoneinfo.com'.\n",
    "\n",
    "I used the following regex expression to look for all phone numbers that are not standard Edinburgh phone number format.\n",
    "\n",
    "`phone_check = re.compile(r'(0131) \\d\\d\\d \\d\\d\\d\\d')`"
   ]
  },
  {
   "cell_type": "markdown",
   "metadata": {},
   "source": [
    "This is a sample of how the phone numbers changed:\n",
    "\n",
    "* `+44 131 447 9027 -> 0131 447 9027`\n",
    "* `+44 (0)131 656 0390 -> 0131 656 0390`\n",
    "* `01316542777 -> 0131 654 2777`\n",
    "* `+44 788 983 2780 -> 07889 832780`\n",
    "* `+44 131 5525522 -> 0131 552 5522`"
   ]
  },
  {
   "cell_type": "markdown",
   "metadata": {},
   "source": [
    "## 5. Overview of the Data"
   ]
  },
  {
   "cell_type": "markdown",
   "metadata": {},
   "source": [
    "### File sizes"
   ]
  },
  {
   "cell_type": "markdown",
   "metadata": {},
   "source": [
    "#### Original osm file\n",
    "\n",
    "* `edinburgh_scotland.osm 469.9 MB`\n",
    "\n",
    "#### Individual csv files\n",
    "* `nodes.csv 154.9 MB`\n",
    "* `node_tags.csv 26.8 MB`\n",
    "* `ways.csv 22.2 MB `\n",
    "* `way_tags.csv 32.8 MB`\n",
    "* `way_nodes.csv 70.1 MB`\n",
    "\n",
    "#### Database file\n",
    "* `edinburgh.db 352.2 MB`"
   ]
  },
  {
   "cell_type": "markdown",
   "metadata": {},
   "source": [
    "## Number of entries in each file"
   ]
  },
  {
   "cell_type": "markdown",
   "metadata": {},
   "source": [
    "```sql\n",
    "SELECT COUNT(*) FROM nodes;\n",
    "```\n",
    "<strong>```number of nodes: ```</strong>```1948773```"
   ]
  },
  {
   "cell_type": "markdown",
   "metadata": {},
   "source": [
    "```sql\n",
    "SELECT COUNT(*) FROM node_tags\n",
    "```\n",
    "<strong>```number of node_tags: ```</strong>```814471```"
   ]
  },
  {
   "cell_type": "markdown",
   "metadata": {},
   "source": [
    "```sql\n",
    "SELECT COUNT(*) FROM ways\n",
    "```\n",
    "<strong>```number of ways: ```<strong>```380002```"
   ]
  },
  {
   "cell_type": "markdown",
   "metadata": {},
   "source": [
    "```sql\n",
    "SELECT COUNT(*) FROM way_tags\n",
    "```\n",
    "<strong>```number of way_tags: ```</strong>```909648```"
   ]
  },
  {
   "cell_type": "markdown",
   "metadata": {},
   "source": [
    "```sql\n",
    "SELECT COUNT(*) FROM way_nodes\n",
    "```\n",
    "<strong>```number of way_nodes: ```</strong>```3071078```"
   ]
  },
  {
   "cell_type": "markdown",
   "metadata": {},
   "source": [
    "### Number of unique users: \n",
    "\n",
    "```sql\n",
    "SELECT COUNT(DISTINCT(e.uid)) \n",
    "FROM (SELECT uid FROM nodes UNION ALL SELECT uid FROM ways) e;\n",
    "```\n",
    "\n",
    "<strong>```number of unique users:```</strong> ```1087```"
   ]
  },
  {
   "cell_type": "markdown",
   "metadata": {},
   "source": [
    "### Top 10 contributing users\n",
    "\n",
    "```sql\n",
    "SELECT e.user, COUNT(*) as num\n",
    "FROM (SELECT user FROM nodes UNION ALL SELECT user FROM ways) e GROUP BY e.user ORDER BY num DESC;\n",
    "```\n",
    "\n",
    "\n",
    "<strong>```top 10 contributing users:```</strong>\n",
    "```\n",
    "sophiemccallum|563943\n",
    "drnoble|318883\n",
    "eric_|224366\n",
    "rob_michel|138985\n",
    "Hobgoblin|130447\n",
    "Central America|95904\n",
    "michaelbrown|92752\n",
    "eisa|83557\n",
    "GinaroZ|81735\n",
    "leilaz|41564\n",
    "```"
   ]
  },
  {
   "cell_type": "markdown",
   "metadata": {},
   "source": [
    "### Types available for the dataset\n",
    "\n",
    "```sql\n",
    "SELECT e.type, COUNT(*) as num\n",
    "FROM (SELECT type FROM node_tags UNION ALL SELECT type FROM way_tags) e \n",
    "GROUP BY e.type ORDER BY num DESC LIMIT 10;\n",
    "```\n",
    "\n",
    "<strong>```output:```</strong>\n",
    "```\n",
    "regular|1283261\n",
    "addr|390278\n",
    "naptan|24402\n",
    "building|11817\n",
    "maxspeed|3262\n",
    "roof|2641\n",
    "source|2454\n",
    "seamark|993\n",
    "recycling|614\n",
    "disused|537\n",
    "```"
   ]
  },
  {
   "cell_type": "markdown",
   "metadata": {},
   "source": [
    "### 'Regular' type keys\n",
    "\n",
    "For those addresses that didn't have a specific address type, their key values were assigned as 'regular'. There are 1.2 million 'regular' types here, so it only makes sense to dig into them a bit more.\n",
    "\n",
    "```sql\n",
    "SELECT e.key, COUNT(*) as num FROM (SELECT type, key FROM node_tags UNION ALL SELECT type, key FROM way_tags) e WHERE e.type = 'regular' GROUP BY e.key ORDER BY num DESC LIMIT 10;\n",
    "```\n",
    "\n",
    "<strong>```output:```</strong>\n",
    "```\n",
    "source|447388\n",
    "building|171525\n",
    "natural|90267\n",
    "highway|74693\n",
    "denotation|69674\n",
    "barrier|67002\n",
    "access|51557\n",
    "leisure|51111\n",
    "name|45209\n",
    "maxspeed|21603\n",
    "```"
   ]
  },
  {
   "cell_type": "markdown",
   "metadata": {},
   "source": [
    "### sources of the data\n",
    "\n",
    "```sql\n",
    "SELECT e.value, COUNT(*) as num FROM (SELECT type, value FROM node_tags UNION ALL SELECT type, value FROM way_tags) e WHERE e.type = 'regular' GROUP BY e.value ORDER BY num DESC LIMIT 10;\n",
    "```\n",
    "\n",
    "<strong>```output:```</strong>\n",
    "```\n",
    "Bing|154148\n",
    "NLS_OS_Edinburgh_map_1940s;Bing|128836\n",
    "survey|93244\n",
    "tree|82582\n",
    "yes|78432\n",
    "urban|69659\n",
    "residential|55376\n",
    "wall|54994\n",
    "private|50341\n",
    "garden|47935\n",
    "```\n",
    "\n",
    "Entries with this type seem to be indicate the original source of the data. Bing, NLS (National Library of Scotland), and survey seems to be the most referenced source."
   ]
  },
  {
   "cell_type": "markdown",
   "metadata": {},
   "source": [
    "### 'abandoned' places\n",
    "\n",
    "There are 36 'abandoned' type locations in Edinburgh. I was curious, so I dug in a bit more.\n",
    "\n",
    "```sql\n",
    "SELECT e.key, COUNT(*) as num\n",
    "FROM (SELECT key, type FROM node_tags UNION ALL SELECT key, type FROM way_tags) e \n",
    "WHERE e.type = 'abandoned' GROUP BY e.key ORDER BY num DESC;\n",
    "```\n",
    "\n",
    "<strong>```output:```</strong>\n",
    "```\n",
    "railway|22\n",
    "highway|8\n",
    "amenity|2\n",
    "building|2\n",
    "leisure|1\n",
    "man_made|1\n",
    "```\n",
    "\n",
    "Ah. There are numerous unused railways and highways in the area. It makes sense then to mark these as 'abandoned' rather than to ignore them because they take a huge space just to be ignored from the map."
   ]
  },
  {
   "cell_type": "markdown",
   "metadata": {},
   "source": [
    "### Keys available for data\n",
    "\n",
    "```sql\n",
    "SELECT e.key, COUNT(*) as num\n",
    "FROM (SELECT key FROM node_tags UNION ALL SELECT key FROM way_tags) e \n",
    "GROUP BY e.key ORDER BY num DESC LIMIT 10;\n",
    "```\n",
    "\n",
    "<strong>```output:```</strong>\n",
    "```\n",
    "source|447472\n",
    "building|171608\n",
    "street|101096\n",
    "housenumber|100078\n",
    "city|92180\n",
    "natural|90267\n",
    "country|77209\n",
    "highway|74862\n",
    "denotation|69674\n",
    "barrier|67015\n",
    "```\n",
    "\n",
    "There are some interesting key values here. Let's look at some in detail."
   ]
  },
  {
   "cell_type": "markdown",
   "metadata": {},
   "source": [
    "### History vs Historic\n",
    "\n",
    "We see history, we see historic. let's see both to see if they are any different.\n",
    "\n",
    "```sql\n",
    "SELECT e.value, e.key, COUNT(*) as num\n",
    "FROM (SELECT value, key FROM node_tags UNION ALL SELECT value, key FROM way_tags) e\n",
    "WHERE (e.key = 'history' OR e.key = 'historic') GROUP BY e.value ORDER BY num DESC;\n",
    "```\n",
    "\n",
    "<strong>```output:```</strong>\n",
    "```\n",
    "memorial|historic|136\n",
    "ruins|historic|112\n",
    "monument|historic|105\n",
    "Retrieved from v1|history|53\n",
    "archaeological_site|historic|43\n",
    "Retrieved from v2|history|35\n",
    "Retrieved from v3|history|28\n",
    "castle|historic|27\n",
    "mine|historic|27\n",
    "tomb|historic|21\n",
    "```\n",
    "\n",
    "It seems that these two are distinctively different, where historic is the actual 'historic_sites', while 'history' refers to a possible source of some kind. Changing the name would be much easier to follow."
   ]
  },
  {
   "cell_type": "markdown",
   "metadata": {},
   "source": [
    "### 'man_made' locations\n",
    "\n",
    "Another thing that is interesting is 'man_made' keys. Possibly everything in this dataset except for natural locations should be man_made. Why are they separately written?\n",
    "\n",
    "```sql\n",
    "SELECT e.value, COUNT(*) as num\n",
    "FROM (SELECT value, key FROM node_tags UNION ALL SELECT value, key FROM way_tags) e\n",
    "WHERE e.key = 'man_made' GROUP BY e.value ORDER BY num DESC LIMIT 10;\n",
    "```\n",
    "\n",
    "<strong>```output:```</strong>\n",
    "```\n",
    "embankment|238\n",
    "pier|76\n",
    "tower|65\n",
    "mast|48\n",
    "petroleum_well|43\n",
    "surveillance|40\n",
    "wastewater_plant|24\n",
    "cutline|22\n",
    "pipeline|19\n",
    "tank|18\n",
    "\n",
    "```\n",
    "\n",
    "The results are not something special. Clearly, these entries can be submitted under different keys which are more coherent.\n",
    "\n"
   ]
  },
  {
   "cell_type": "markdown",
   "metadata": {},
   "source": [
    "I suspect that a particular user (or users) might be the culprit and looked at who made these entries.\n",
    "\n",
    "```sql\n",
    "SELECT e.user, COUNT(*) as num\n",
    "FROM (SELECT user, id FROM nodes UNION ALL SELECT user, id FROM ways) e JOIN (SELECT id, key FROM node_tags UNION ALL SELECT id, key FROM way_tags) f ON e.id = f.id WHERE f.key = 'man_made' GROUP BY e.user ORDER BY num DESC LIMIT 10;\n",
    "```\n",
    "\n",
    "<strong>```output:```</strong>\n",
    "```\n",
    "drnoble|309\n",
    "GinaroZ|61\n",
    "kaerast|38\n",
    "Central America|31\n",
    "Hobgoblin|28\n",
    "eric_|25\n",
    "sophiemccallum|19\n",
    "phut|17\n",
    "digby|15\n",
    "MJCosm|14\n",
    "```\n",
    "\n",
    "But it seems that pretty much anyone makes this mistake. In fact, some of the top contributing users also make this mistake."
   ]
  },
  {
   "cell_type": "markdown",
   "metadata": {},
   "source": [
    "### Tourist sites\n",
    "\n",
    "Edinburgh is famous for its tourist locations, so I'm interested in these sites. Since historic locations are a big part of Edinburgh's history, I'm also curious if there are tourist locations that are listed as such, and thus have a potential of overlapping with 'historic' key addresses.\n",
    "\n",
    "```sql\n",
    "SELECT e.value, COUNT(*) as num\n",
    "FROM (SELECT value, key FROM node_tags UNION ALL SELECT value, key FROM way_tags) e\n",
    "WHERE e.key = 'tourism' GROUP BY e.value ORDER BY num DESC LIMIT 10;\n",
    "```\n",
    "\n",
    "<strong>```output:```</strong>\n",
    "```\n",
    "guest_house|235\n",
    "hotel|232\n",
    "attraction|204\n",
    "information|199\n",
    "artwork|109\n",
    "picnic_site|85\n",
    "viewpoint|49\n",
    "museum|35\n",
    "hostel|29\n",
    "gallery|24\n",
    "```"
   ]
  },
  {
   "cell_type": "markdown",
   "metadata": {},
   "source": [
    "### Religions in Edinburgh\n",
    "\n",
    "```sql\n",
    "SELECT e.value, COUNT(*) as num\n",
    "FROM (SELECT value, key FROM node_tags UNION ALL SELECT value, key FROM way_tags) e\n",
    "WHERE e.key = 'religion' GROUP BY e.value ORDER BY num DESC;\n",
    "```\n",
    "\n",
    "<strong>```output:```</strong>\n",
    "```\n",
    "christian|384\n",
    "muslim|8\n",
    "multifaith|5\n",
    "jewish|2\n",
    "bahai|1\n",
    "buddhist|1\n",
    "hindu|1\n",
    "sikh|1\n",
    "```\n",
    "\n",
    "not a surprising result, as this is Scotland."
   ]
  },
  {
   "cell_type": "markdown",
   "metadata": {},
   "source": [
    "### Common ammenities in Edinburgh\n",
    "\n",
    "```\n",
    "SELECT e.value, COUNT(*) as num\n",
    "FROM (SELECT value, key FROM node_tags UNION ALL SELECT value, key FROM way_tags) e\n",
    "WHERE e.key = 'amenity' GROUP BY e.value ORDER BY num DESC LIMIT 10;\n",
    "```\n",
    "\n",
    "<strong>```output:```</strong>\n",
    "```\n",
    "parking|3836\n",
    "bench|1208\n",
    "post_box|1090\n",
    "bicycle_parking|1071\n",
    "restaurant|728\n",
    "fast_food|661\n",
    "cafe|633\n",
    "pub|504\n",
    "telephone|477\n",
    "place_of_worship|383\n",
    "```"
   ]
  },
  {
   "cell_type": "markdown",
   "metadata": {},
   "source": [
    "We see restaurants and fast_food chains as part of amenities, but interestingly, there is also a separate key for 'cuisine', which most likely is a resturant too.\n",
    "\n",
    "```\n",
    "SELECT e.value, COUNT(*) as num\n",
    "FROM (SELECT value, key FROM node_tags UNION ALL SELECT value, key FROM way_tags) e\n",
    "WHERE e.key = 'cuisine' GROUP BY e.value ORDER BY num DESC LIMIT 10;\n",
    "```\n",
    "\n",
    "<strong>```output:```</strong>\n",
    "```\n",
    "chinese|180\n",
    "indian|126\n",
    "italian|96\n",
    "fish_and_chips|93\n",
    "coffee_shop|69\n",
    "sandwich|59\n",
    "pizza|50\n",
    "burger|31\n",
    "thai|29\n",
    "mexican|23\n",
    "```\n",
    "\n",
    "Perhaps those amenities listed as restaurants are more common local cuisines that don't need a separate value like 'chinese' or 'sandwich'. We see a lot of foreign cuisines here, while there are only 18 regional restaurants. Still, interesting find."
   ]
  },
  {
   "cell_type": "markdown",
   "metadata": {},
   "source": [
    "## 6. Other Ideas About the Dataset"
   ]
  },
  {
   "cell_type": "markdown",
   "metadata": {},
   "source": [
    "### creating new attributes\n",
    "'source' is currently part of the 'type' tag for some addresses. While this may be helpful, it's not really contributing anything to do the list. I suggest there should be a separate attribute indicating the source. This will help organize the data more, and furthermore, it would ensure verification of the data.\n",
    "\n",
    "The formats for submitting specific sources would have to be set too, but this can be complex, as we cannot simply predict what the sources may be. Even from this data alone, we can see that some are online, some are from surveys, and some are from individual accounts.\n",
    "\n",
    "### abbreviation/typo/capitalization checks\n",
    "Some commonly found mistakes could be mapped before added to the dataset. It would also be helpful if a script can be created catching these unusualities and report to the user to ensure that the unusuality is not a mistake. \n",
    "\n",
    "Restricting certain names may work too, but there may be rare cases where those restrictions are actual names of the street address. \n",
    "\n",
    "### wrong entries\n",
    "There are some value/key/type entries that should be entered for other variables. Going back to the 'sources' type again, values such as 'garden', 'wall', 'residential' are clearly 'types' of a certain construction, rather than a value for sources. \n",
    "\n",
    "When looking at they keys, I saw some keys such as 'opening_hours' or 'collection_times' that are complimentary information regarding the said place, rather than a key.\n",
    "\n",
    "There were also some really absurd values. One of the 'key' groups was 'horse', and since the values are plain 'yes' and 'no', I'm only to assume that these are part of a survey question. Still, very strange values for a street data.\n",
    "\n",
    "These should be monitored regularly to maintain consistency within the data.\n",
    "\n",
    "We may build some simple rules to allow only certain keys and values to be entered. The biggest problem, of course, would be to decide beforehand what values can be accepted, and this 'acceptable' values alone can be too much in number to manually handle.\n",
    "\n",
    "### need for rigid formatting\n",
    "While most values can be freely submitted, especially if they are text values, many can be restricted in terms of formatting. For example, valid phone number within a geographic region will probably have limited number of formats used. Same can be said for other unique codes, such as postal codes or house numbers. \n",
    "\n",
    "However, this may be hindered by the fact that some businesses use mobile phone number as main contact point, and mobile numbers are not region specific. And as for any rigid formatting, if there are any changes in the formatting, these rules would need to be added manually, which is not only tiresome, but if the rules were applied wrong, then the resulting data may be rigidly formatted trash data."
   ]
  },
  {
   "cell_type": "code",
   "execution_count": null,
   "metadata": {
    "collapsed": true
   },
   "outputs": [],
   "source": []
  }
 ],
 "metadata": {
  "kernelspec": {
   "display_name": "Python 3",
   "language": "python",
   "name": "python3"
  },
  "language_info": {
   "codemirror_mode": {
    "name": "ipython",
    "version": 3
   },
   "file_extension": ".py",
   "mimetype": "text/x-python",
   "name": "python",
   "nbconvert_exporter": "python",
   "pygments_lexer": "ipython3",
   "version": "3.6.0"
  }
 },
 "nbformat": 4,
 "nbformat_minor": 2
}
